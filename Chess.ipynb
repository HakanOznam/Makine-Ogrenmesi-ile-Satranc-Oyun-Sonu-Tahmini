{
  "nbformat": 4,
  "nbformat_minor": 0,
  "metadata": {
    "colab": {
      "name": "Chess.ipynb",
      "provenance": [],
      "authorship_tag": "ABX9TyPL1jQIwuIOiUojS3CU6vZV",
      "include_colab_link": true
    },
    "kernelspec": {
      "name": "python3",
      "display_name": "Python 3"
    },
    "language_info": {
      "name": "python"
    }
  },
  "cells": [
    {
      "cell_type": "markdown",
      "metadata": {
        "id": "view-in-github",
        "colab_type": "text"
      },
      "source": [
        "<a href=\"https://colab.research.google.com/github/HakanOznam/Makine-Ogrenmesi-ile-Satranc-Oyun-Sonu-Tahmini/blob/main/Chess.ipynb\" target=\"_parent\"><img src=\"https://colab.research.google.com/assets/colab-badge.svg\" alt=\"Open In Colab\"/></a>"
      ]
    },
    {
      "cell_type": "markdown",
      "metadata": {
        "id": "waLShCvZI8Tn"
      },
      "source": [
        "Kütüphanelerin import edilmesi ve veri kümesinin dahil edilmesi"
      ]
    },
    {
      "cell_type": "code",
      "metadata": {
        "id": "Fhe1qTgNHciO"
      },
      "source": [
        "import pandas as pd\n",
        "import numpy as np\n",
        "import matplotlib.pyplot as plt\n",
        "from sklearn.model_selection import cross_val_score,cross_val_predict\n",
        "from sklearn.metrics import confusion_matrix , ConfusionMatrixDisplay ,classification_report\n",
        "\n",
        "data=pd.read_excel(\"games.xlsx\")"
      ],
      "execution_count": 1,
      "outputs": []
    },
    {
      "cell_type": "markdown",
      "metadata": {
        "id": "YaUl7Ea_JHm-"
      },
      "source": [
        "Analizin doğruluğunu arttırmak için hamle sayısı 10'dan küçük olan maçları veri kümesinden silme işlemi"
      ]
    },
    {
      "cell_type": "code",
      "metadata": {
        "id": "HBJhQXO_JV2c"
      },
      "source": [
        "data=data.drop(data.loc[data['turns']<=10].index)\n",
        "data=data.reset_index(drop=True)"
      ],
      "execution_count": 2,
      "outputs": []
    },
    {
      "cell_type": "markdown",
      "metadata": {
        "id": "vOlyQaPaJX78"
      },
      "source": [
        "Eksik veri kontrolü"
      ]
    },
    {
      "cell_type": "code",
      "metadata": {
        "id": "EKc5rtEXJaCN",
        "outputId": "5c74d4e8-42f6-4ed3-d5c0-9c89242a4af6",
        "colab": {
          "base_uri": "https://localhost:8080/"
        }
      },
      "source": [
        "data.isnull().sum()"
      ],
      "execution_count": 3,
      "outputs": [
        {
          "output_type": "execute_result",
          "data": {
            "text/plain": [
              "id                   0\n",
              "rated                0\n",
              "game_time         9000\n",
              "turns                0\n",
              "victory_status       0\n",
              "winner               0\n",
              "white_id             0\n",
              "white_rating         0\n",
              "black_id             0\n",
              "black_rating         0\n",
              "moves                0\n",
              "opening_eco          0\n",
              "opening_name         0\n",
              "dtype: int64"
            ]
          },
          "metadata": {
            "tags": []
          },
          "execution_count": 3
        }
      ]
    },
    {
      "cell_type": "markdown",
      "metadata": {
        "id": "lRspietSJbeF"
      },
      "source": [
        "Eksik verilerin IterativeImputer metodu ile işlenmesi "
      ]
    },
    {
      "cell_type": "code",
      "metadata": {
        "id": "V4lrxXZkJk3l",
        "outputId": "6d5e3e3f-ddb1-4542-8d51-fdb1fc853d15",
        "colab": {
          "base_uri": "https://localhost:8080/"
        }
      },
      "source": [
        "from sklearn.experimental import enable_iterative_imputer\n",
        "from sklearn.impute import IterativeImputer\n",
        "testmissing = data.iloc[:9000,2:4]\n",
        "trainmissing = data.iloc[9000:,2:4]\n",
        "imp = IterativeImputer(random_state=0)\n",
        "imp.fit(trainmissing)\n",
        "data.iloc[:9000,2:4] = np.round(imp.transform(testmissing))\n",
        "data.isnull().sum()"
      ],
      "execution_count": 4,
      "outputs": [
        {
          "output_type": "execute_result",
          "data": {
            "text/plain": [
              "id                0\n",
              "rated             0\n",
              "game_time         0\n",
              "turns             0\n",
              "victory_status    0\n",
              "winner            0\n",
              "white_id          0\n",
              "white_rating      0\n",
              "black_id          0\n",
              "black_rating      0\n",
              "moves             0\n",
              "opening_eco       0\n",
              "opening_name      0\n",
              "dtype: int64"
            ]
          },
          "metadata": {
            "tags": []
          },
          "execution_count": 4
        }
      ]
    },
    {
      "cell_type": "markdown",
      "metadata": {
        "id": "dXehvcVKJ1VO"
      },
      "source": [
        "Kategorik verilerin sayısal verilere dönüştürme işlemi"
      ]
    },
    {
      "cell_type": "code",
      "metadata": {
        "id": "uHjI2iFwJ7Pl"
      },
      "source": [
        "from sklearn import preprocessing\n",
        "le = preprocessing.LabelEncoder()\n",
        "\n",
        "#rated özniteliği için \n",
        "data.iloc[:,1] = le.fit_transform(data.iloc[:,1])\n",
        "\n",
        "#victory status özniteliği için\n",
        "ohe = preprocessing.OneHotEncoder()\n",
        "vicstatus = data.iloc[:,4].to_numpy()\n",
        "vicstatus = vicstatus.reshape(-1,1)\n",
        "ohe_vicstatus = ohe.fit_transform(vicstatus).toarray()\n",
        "dfvicstatus=pd.DataFrame(data=ohe_vicstatus,columns=[\"draw\",\"mate\",\"outoftime\",\"resign\"])"
      ],
      "execution_count": 5,
      "outputs": []
    },
    {
      "cell_type": "markdown",
      "metadata": {
        "id": "e5SMcpX_KJNW"
      },
      "source": [
        "Oyun açılış(opening_eco) özniteliğinin sayısal verilere dönüştürme işlemi"
      ]
    },
    {
      "cell_type": "code",
      "metadata": {
        "id": "MaWq9gQkKSDp"
      },
      "source": [
        "eco = data['opening_eco']\n",
        "for i in range(len(eco)):  \n",
        "    eco[i]=eco[i].replace(\"A\",\"1\")\n",
        "    eco[i]=eco[i].replace(\"B\",\"2\")\n",
        "    eco[i]=eco[i].replace(\"C\",\"3\")\n",
        "    eco[i]=eco[i].replace(\"D\",\"4\")\n",
        "    eco[i]=eco[i].replace(\"E\",\"5\")\n",
        "\n",
        "eco=pd.to_numeric(eco)"
      ],
      "execution_count": null,
      "outputs": []
    },
    {
      "cell_type": "markdown",
      "metadata": {
        "id": "DqC4EfohKaT8"
      },
      "source": [
        "Verilerin birleştirilmesi, etiket veri kolonunun belirlenmesi"
      ]
    },
    {
      "cell_type": "code",
      "metadata": {
        "id": "pZE_dG2XKsf-",
        "outputId": "e0dde0ba-f8bb-4478-e306-410df2a939c4",
        "colab": {
          "base_uri": "https://localhost:8080/",
          "height": 203
        }
      },
      "source": [
        "X = pd.concat([data[\"rated\"],data[\"game_time\"],data[\"turns\"],dfvicstatus,data[\"black_rating\"],data[\"white_rating\"]],axis=1)\n",
        "\n",
        "y = data[\"winner\"]\n",
        "y = le.fit_transform(y)\n",
        "classes =[\"black\",\"draw\",\"white\"]\n",
        "X.head()"
      ],
      "execution_count": 7,
      "outputs": [
        {
          "output_type": "execute_result",
          "data": {
            "text/html": [
              "<div>\n",
              "<style scoped>\n",
              "    .dataframe tbody tr th:only-of-type {\n",
              "        vertical-align: middle;\n",
              "    }\n",
              "\n",
              "    .dataframe tbody tr th {\n",
              "        vertical-align: top;\n",
              "    }\n",
              "\n",
              "    .dataframe thead th {\n",
              "        text-align: right;\n",
              "    }\n",
              "</style>\n",
              "<table border=\"1\" class=\"dataframe\">\n",
              "  <thead>\n",
              "    <tr style=\"text-align: right;\">\n",
              "      <th></th>\n",
              "      <th>rated</th>\n",
              "      <th>game_time</th>\n",
              "      <th>turns</th>\n",
              "      <th>draw</th>\n",
              "      <th>mate</th>\n",
              "      <th>outoftime</th>\n",
              "      <th>resign</th>\n",
              "      <th>black_rating</th>\n",
              "      <th>white_rating</th>\n",
              "    </tr>\n",
              "  </thead>\n",
              "  <tbody>\n",
              "    <tr>\n",
              "      <th>0</th>\n",
              "      <td>0</td>\n",
              "      <td>365889.0</td>\n",
              "      <td>13.0</td>\n",
              "      <td>0.0</td>\n",
              "      <td>0.0</td>\n",
              "      <td>1.0</td>\n",
              "      <td>0.0</td>\n",
              "      <td>1191</td>\n",
              "      <td>1500</td>\n",
              "    </tr>\n",
              "    <tr>\n",
              "      <th>1</th>\n",
              "      <td>1</td>\n",
              "      <td>396358.0</td>\n",
              "      <td>16.0</td>\n",
              "      <td>0.0</td>\n",
              "      <td>0.0</td>\n",
              "      <td>0.0</td>\n",
              "      <td>1.0</td>\n",
              "      <td>1261</td>\n",
              "      <td>1322</td>\n",
              "    </tr>\n",
              "    <tr>\n",
              "      <th>2</th>\n",
              "      <td>1</td>\n",
              "      <td>853391.0</td>\n",
              "      <td>61.0</td>\n",
              "      <td>0.0</td>\n",
              "      <td>1.0</td>\n",
              "      <td>0.0</td>\n",
              "      <td>0.0</td>\n",
              "      <td>1500</td>\n",
              "      <td>1496</td>\n",
              "    </tr>\n",
              "    <tr>\n",
              "      <th>3</th>\n",
              "      <td>1</td>\n",
              "      <td>853391.0</td>\n",
              "      <td>61.0</td>\n",
              "      <td>0.0</td>\n",
              "      <td>1.0</td>\n",
              "      <td>0.0</td>\n",
              "      <td>0.0</td>\n",
              "      <td>1454</td>\n",
              "      <td>1439</td>\n",
              "    </tr>\n",
              "    <tr>\n",
              "      <th>4</th>\n",
              "      <td>1</td>\n",
              "      <td>1198705.0</td>\n",
              "      <td>95.0</td>\n",
              "      <td>0.0</td>\n",
              "      <td>1.0</td>\n",
              "      <td>0.0</td>\n",
              "      <td>0.0</td>\n",
              "      <td>1469</td>\n",
              "      <td>1523</td>\n",
              "    </tr>\n",
              "  </tbody>\n",
              "</table>\n",
              "</div>"
            ],
            "text/plain": [
              "   rated  game_time  turns  draw  ...  outoftime  resign  black_rating  white_rating\n",
              "0      0   365889.0   13.0   0.0  ...        1.0     0.0          1191          1500\n",
              "1      1   396358.0   16.0   0.0  ...        0.0     1.0          1261          1322\n",
              "2      1   853391.0   61.0   0.0  ...        0.0     0.0          1500          1496\n",
              "3      1   853391.0   61.0   0.0  ...        0.0     0.0          1454          1439\n",
              "4      1  1198705.0   95.0   0.0  ...        0.0     0.0          1469          1523\n",
              "\n",
              "[5 rows x 9 columns]"
            ]
          },
          "metadata": {
            "tags": []
          },
          "execution_count": 7
        }
      ]
    },
    {
      "cell_type": "markdown",
      "metadata": {
        "id": "IrtXZrAGKuu8"
      },
      "source": [
        "Verilerin standardize edilmesi\n"
      ]
    },
    {
      "cell_type": "code",
      "metadata": {
        "id": "idJ9RLU_KzA1"
      },
      "source": [
        "from sklearn.preprocessing import StandardScaler\n",
        "sc = StandardScaler()\n",
        "X_sc = sc.fit_transform(X)\n"
      ],
      "execution_count": 9,
      "outputs": []
    },
    {
      "cell_type": "markdown",
      "metadata": {
        "id": "wHbvkmonK9EF"
      },
      "source": [
        "KFold algoritması kullanılarak modellerin sonuçlarını yazdıran fonksiyon tanımlanması"
      ]
    },
    {
      "cell_type": "code",
      "metadata": {
        "id": "wCt1uXvwRc9Y"
      },
      "source": [
        "def output(est,X,color):\n",
        "    for model in est:\n",
        "        accu = cross_val_score(estimator = model, X = X, y=y,cv=5)\n",
        "        y_pred = cross_val_predict(model,X,y,cv=5)\n",
        "        conf_matrix = confusion_matrix(y, y_pred)        \n",
        "        \"\"\"görselleştirme\"\"\"\n",
        "        #disp = ConfusionMatrixDisplay(confusion_matrix=conf_matrix,display_labels=[\"black\",\"draw\",\"white\"])\n",
        "        #disp.plot(cmap=color)\n",
        "        #disp.ax_.set_title(model)\n",
        "        print(\"-------- \",model,\" report -------- \\n\")\n",
        "        print(classification_report(y,y_pred,target_names=classes))\n",
        "        print(\"\\n\")"
      ],
      "execution_count": 10,
      "outputs": []
    },
    {
      "cell_type": "markdown",
      "metadata": {
        "id": "2_W1ODdPSFH1"
      },
      "source": [
        "Modellerin import edilmesi"
      ]
    },
    {
      "cell_type": "code",
      "metadata": {
        "id": "BQDs3cxySShM"
      },
      "source": [
        "from sklearn.model_selection import GridSearchCV\n",
        "\n",
        "from sklearn.linear_model import LogisticRegression\n",
        "logreg = LogisticRegression(random_state=0)\n",
        "\n",
        "from sklearn.tree import DecisionTreeClassifier\n",
        "clf = DecisionTreeClassifier(random_state=0)\n",
        "\n",
        "from sklearn.naive_bayes import GaussianNB\n",
        "gnb = GaussianNB()\n"
      ],
      "execution_count": 15,
      "outputs": []
    },
    {
      "cell_type": "markdown",
      "metadata": {
        "id": "aozrTyj9UPMy"
      },
      "source": [
        "GridSearchCV algoritması ile Random Forest Classifier"
      ]
    },
    {
      "cell_type": "code",
      "metadata": {
        "id": "tax7WhBJUTkK"
      },
      "source": [
        "from sklearn.ensemble import RandomForestClassifier\n",
        "rfc = RandomForestClassifier()\n",
        "\n",
        "parameters = [{'n_estimators': [50,100,150,200], 'criterion':['gini',\"entropy\"]}]\n",
        "grids = GridSearchCV(estimator = rfc, param_grid = parameters, scoring = 'accuracy', cv = 5, n_jobs = -1)\n",
        "grids.fit(X_sc, y)\n",
        "best_accuracy , best_parameter = grids.best_score_ , grids.best_params_"
      ],
      "execution_count": 12,
      "outputs": []
    },
    {
      "cell_type": "code",
      "metadata": {
        "id": "FRdhC-35qe-n",
        "outputId": "5c019723-18cd-49ce-e901-d53ad8d68dbb",
        "colab": {
          "base_uri": "https://localhost:8080/"
        }
      },
      "source": [
        "best_parameter"
      ],
      "execution_count": 13,
      "outputs": [
        {
          "output_type": "execute_result",
          "data": {
            "text/plain": [
              "{'criterion': 'gini', 'n_estimators': 200}"
            ]
          },
          "metadata": {
            "tags": []
          },
          "execution_count": 13
        }
      ]
    },
    {
      "cell_type": "code",
      "metadata": {
        "id": "3c21Z3p8U7bj"
      },
      "source": [
        "grid_rfc = RandomForestClassifier(n_estimators=200,criterion=\"gini\")"
      ],
      "execution_count": 22,
      "outputs": []
    },
    {
      "cell_type": "markdown",
      "metadata": {
        "id": "Xb0gsBooWKmL"
      },
      "source": [
        "GridSearchCV algoritması ile KNN Classifier"
      ]
    },
    {
      "cell_type": "code",
      "metadata": {
        "id": "tqcrpWEYWQ5I"
      },
      "source": [
        "from sklearn.neighbors import KNeighborsClassifier\n",
        "knn = KNeighborsClassifier()\n",
        "\"\"\"\n",
        "parameters = [{'n_neighbors': [3,5,7,9,11,13,15,17,19,21], 'weights':['uniform',\"distance\"],\"metric\" : [\"euclidean\",\"manhattan\",\"minkowski\"]}]\n",
        "grids = GridSearchCV(estimator = knn, param_grid = parameters, scoring = 'accuracy', cv = 5, n_jobs = -1)\n",
        "grids.fit(X_sc, y)\n",
        "best_accuracy , best_parameter = grids.best_score_ , grids.best_params_\n",
        "\"\"\""
      ],
      "execution_count": null,
      "outputs": []
    },
    {
      "cell_type": "code",
      "metadata": {
        "id": "8KSVyvvWWue6"
      },
      "source": [
        "grid_knn = KNeighborsClassifier(n_neighbors=21,weights=\"distance\",metric=\"manhattan\")"
      ],
      "execution_count": 19,
      "outputs": []
    },
    {
      "cell_type": "markdown",
      "metadata": {
        "id": "djxDVSfpWyMC"
      },
      "source": [
        "GridSearchCV algoritması ile Support Vector Classifier"
      ]
    },
    {
      "cell_type": "code",
      "metadata": {
        "id": "vjuBaI9nW1NZ"
      },
      "source": [
        "from sklearn.svm import SVC\n",
        "svm = SVC()\n",
        "\"\"\"\n",
        "parameters = [{'C': [0.25, 0.5, 0.75, 1], 'kernel':['linear']}, {'C': [0.25, 0.5, 0.75, 1], 'kernel':['rbf'], 'gamma': [0.1, 0.2, 0.3, 0.4, 0.5]}]\n",
        "grids = GridSearchCV(estimator = svm, param_grid = parameters, scoring = 'accuracy', cv = 5, n_jobs = -1)\n",
        "grids.fit(X_sc, y)\n",
        "best_accuracy , best_parameter = grids.best_score_ , grids.best_params_\n",
        "\"\"\""
      ],
      "execution_count": null,
      "outputs": []
    },
    {
      "cell_type": "code",
      "metadata": {
        "id": "buPDyQXhW6FZ"
      },
      "source": [
        "grid_svm = SVC(C=0.75,kernel=\"linear\")"
      ],
      "execution_count": 20,
      "outputs": []
    },
    {
      "cell_type": "markdown",
      "metadata": {
        "id": "VJMlP9dDa7wE"
      },
      "source": [
        "Parametre kullanılmayan modellerin sonuçları"
      ]
    },
    {
      "cell_type": "code",
      "metadata": {
        "id": "yKl4sO7_bAZO",
        "outputId": "65850d3f-6769-4826-8b12-fd2861a1b395",
        "colab": {
          "base_uri": "https://localhost:8080/"
        }
      },
      "source": [
        "est = [logreg,clf,rfc,knn,gnb]\n",
        "output(est,X_sc,\"pink\")"
      ],
      "execution_count": 18,
      "outputs": [
        {
          "output_type": "stream",
          "text": [
            "/usr/local/lib/python3.7/dist-packages/sklearn/linear_model/_logistic.py:940: ConvergenceWarning: lbfgs failed to converge (status=1):\n",
            "STOP: TOTAL NO. of ITERATIONS REACHED LIMIT.\n",
            "\n",
            "Increase the number of iterations (max_iter) or scale the data as shown in:\n",
            "    https://scikit-learn.org/stable/modules/preprocessing.html\n",
            "Please also refer to the documentation for alternative solver options:\n",
            "    https://scikit-learn.org/stable/modules/linear_model.html#logistic-regression\n",
            "  extra_warning_msg=_LOGISTIC_SOLVER_CONVERGENCE_MSG)\n",
            "/usr/local/lib/python3.7/dist-packages/sklearn/linear_model/_logistic.py:940: ConvergenceWarning: lbfgs failed to converge (status=1):\n",
            "STOP: TOTAL NO. of ITERATIONS REACHED LIMIT.\n",
            "\n",
            "Increase the number of iterations (max_iter) or scale the data as shown in:\n",
            "    https://scikit-learn.org/stable/modules/preprocessing.html\n",
            "Please also refer to the documentation for alternative solver options:\n",
            "    https://scikit-learn.org/stable/modules/linear_model.html#logistic-regression\n",
            "  extra_warning_msg=_LOGISTIC_SOLVER_CONVERGENCE_MSG)\n",
            "/usr/local/lib/python3.7/dist-packages/sklearn/linear_model/_logistic.py:940: ConvergenceWarning: lbfgs failed to converge (status=1):\n",
            "STOP: TOTAL NO. of ITERATIONS REACHED LIMIT.\n",
            "\n",
            "Increase the number of iterations (max_iter) or scale the data as shown in:\n",
            "    https://scikit-learn.org/stable/modules/preprocessing.html\n",
            "Please also refer to the documentation for alternative solver options:\n",
            "    https://scikit-learn.org/stable/modules/linear_model.html#logistic-regression\n",
            "  extra_warning_msg=_LOGISTIC_SOLVER_CONVERGENCE_MSG)\n",
            "/usr/local/lib/python3.7/dist-packages/sklearn/linear_model/_logistic.py:940: ConvergenceWarning: lbfgs failed to converge (status=1):\n",
            "STOP: TOTAL NO. of ITERATIONS REACHED LIMIT.\n",
            "\n",
            "Increase the number of iterations (max_iter) or scale the data as shown in:\n",
            "    https://scikit-learn.org/stable/modules/preprocessing.html\n",
            "Please also refer to the documentation for alternative solver options:\n",
            "    https://scikit-learn.org/stable/modules/linear_model.html#logistic-regression\n",
            "  extra_warning_msg=_LOGISTIC_SOLVER_CONVERGENCE_MSG)\n"
          ],
          "name": "stderr"
        },
        {
          "output_type": "stream",
          "text": [
            "--------  LogisticRegression(C=1.0, class_weight=None, dual=False, fit_intercept=True,\n",
            "                   intercept_scaling=1, l1_ratio=None, max_iter=100,\n",
            "                   multi_class='auto', n_jobs=None, penalty='l2',\n",
            "                   random_state=0, solver='lbfgs', tol=0.0001, verbose=0,\n",
            "                   warm_start=False)  report -------- \n",
            "\n",
            "              precision    recall  f1-score   support\n",
            "\n",
            "       black       0.65      0.58      0.61      8831\n",
            "        draw       0.99      0.95      0.97       910\n",
            "       white       0.65      0.71      0.68      9636\n",
            "\n",
            "    accuracy                           0.66     19377\n",
            "   macro avg       0.76      0.75      0.75     19377\n",
            "weighted avg       0.66      0.66      0.66     19377\n",
            "\n",
            "\n",
            "\n",
            "--------  DecisionTreeClassifier(ccp_alpha=0.0, class_weight=None, criterion='gini',\n",
            "                       max_depth=None, max_features=None, max_leaf_nodes=None,\n",
            "                       min_impurity_decrease=0.0, min_impurity_split=None,\n",
            "                       min_samples_leaf=1, min_samples_split=2,\n",
            "                       min_weight_fraction_leaf=0.0, presort='deprecated',\n",
            "                       random_state=0, splitter='best')  report -------- \n",
            "\n",
            "              precision    recall  f1-score   support\n",
            "\n",
            "       black       0.58      0.58      0.58      8831\n",
            "        draw       0.93      0.95      0.94       910\n",
            "       white       0.62      0.62      0.62      9636\n",
            "\n",
            "    accuracy                           0.62     19377\n",
            "   macro avg       0.71      0.72      0.71     19377\n",
            "weighted avg       0.62      0.62      0.62     19377\n",
            "\n",
            "\n",
            "\n",
            "--------  RandomForestClassifier(bootstrap=True, ccp_alpha=0.0, class_weight=None,\n",
            "                       criterion='gini', max_depth=None, max_features='auto',\n",
            "                       max_leaf_nodes=None, max_samples=None,\n",
            "                       min_impurity_decrease=0.0, min_impurity_split=None,\n",
            "                       min_samples_leaf=1, min_samples_split=2,\n",
            "                       min_weight_fraction_leaf=0.0, n_estimators=100,\n",
            "                       n_jobs=None, oob_score=False, random_state=None,\n",
            "                       verbose=0, warm_start=False)  report -------- \n",
            "\n",
            "              precision    recall  f1-score   support\n",
            "\n",
            "       black       0.67      0.66      0.66      8831\n",
            "        draw       1.00      0.95      0.97       910\n",
            "       white       0.69      0.70      0.70      9636\n",
            "\n",
            "    accuracy                           0.69     19377\n",
            "   macro avg       0.79      0.77      0.78     19377\n",
            "weighted avg       0.70      0.69      0.70     19377\n",
            "\n",
            "\n",
            "\n",
            "--------  KNeighborsClassifier(algorithm='auto', leaf_size=30, metric='minkowski',\n",
            "                     metric_params=None, n_jobs=None, n_neighbors=5, p=2,\n",
            "                     weights='uniform')  report -------- \n",
            "\n",
            "              precision    recall  f1-score   support\n",
            "\n",
            "       black       0.59      0.58      0.58      8831\n",
            "        draw       0.99      0.95      0.97       910\n",
            "       white       0.62      0.62      0.62      9636\n",
            "\n",
            "    accuracy                           0.62     19377\n",
            "   macro avg       0.73      0.72      0.73     19377\n",
            "weighted avg       0.62      0.62      0.62     19377\n",
            "\n",
            "\n",
            "\n",
            "--------  GaussianNB(priors=None, var_smoothing=1e-09)  report -------- \n",
            "\n",
            "              precision    recall  f1-score   support\n",
            "\n",
            "       black       0.63      0.40      0.49      8831\n",
            "        draw       0.96      0.95      0.96       910\n",
            "       white       0.59      0.79      0.67      9636\n",
            "\n",
            "    accuracy                           0.62     19377\n",
            "   macro avg       0.73      0.71      0.71     19377\n",
            "weighted avg       0.63      0.62      0.60     19377\n",
            "\n",
            "\n",
            "\n"
          ],
          "name": "stdout"
        }
      ]
    },
    {
      "cell_type": "markdown",
      "metadata": {
        "id": "H1NyB0D6bDIp"
      },
      "source": [
        "GridSearchCV uygulanan üç modelin sonuçları"
      ]
    },
    {
      "cell_type": "code",
      "metadata": {
        "id": "0rF-zwgFbFiy",
        "outputId": "9ee27185-d816-4ea1-fa5a-c5765991d024",
        "colab": {
          "base_uri": "https://localhost:8080/"
        }
      },
      "source": [
        "grid_est = [grid_rfc,grid_knn,grid_svm]\n",
        "output(grid_est,X_sc,\"hot\")\n"
      ],
      "execution_count": 23,
      "outputs": [
        {
          "output_type": "stream",
          "text": [
            "--------  RandomForestClassifier(bootstrap=True, ccp_alpha=0.0, class_weight=None,\n",
            "                       criterion='gini', max_depth=None, max_features='auto',\n",
            "                       max_leaf_nodes=None, max_samples=None,\n",
            "                       min_impurity_decrease=0.0, min_impurity_split=None,\n",
            "                       min_samples_leaf=1, min_samples_split=2,\n",
            "                       min_weight_fraction_leaf=0.0, n_estimators=200,\n",
            "                       n_jobs=None, oob_score=False, random_state=None,\n",
            "                       verbose=0, warm_start=False)  report -------- \n",
            "\n",
            "              precision    recall  f1-score   support\n",
            "\n",
            "       black       0.67      0.66      0.67      8831\n",
            "        draw       1.00      0.95      0.97       910\n",
            "       white       0.69      0.71      0.70      9636\n",
            "\n",
            "    accuracy                           0.70     19377\n",
            "   macro avg       0.79      0.77      0.78     19377\n",
            "weighted avg       0.70      0.70      0.70     19377\n",
            "\n",
            "\n",
            "\n",
            "--------  KNeighborsClassifier(algorithm='auto', leaf_size=30, metric='manhattan',\n",
            "                     metric_params=None, n_jobs=None, n_neighbors=21, p=2,\n",
            "                     weights='distance')  report -------- \n",
            "\n",
            "              precision    recall  f1-score   support\n",
            "\n",
            "       black       0.62      0.60      0.61      8831\n",
            "        draw       1.00      0.95      0.98       910\n",
            "       white       0.64      0.67      0.66      9636\n",
            "\n",
            "    accuracy                           0.65     19377\n",
            "   macro avg       0.76      0.74      0.75     19377\n",
            "weighted avg       0.65      0.65      0.65     19377\n",
            "\n",
            "\n",
            "\n",
            "--------  SVC(C=0.75, break_ties=False, cache_size=200, class_weight=None, coef0=0.0,\n",
            "    decision_function_shape='ovr', degree=3, gamma='scale', kernel='linear',\n",
            "    max_iter=-1, probability=False, random_state=None, shrinking=True,\n",
            "    tol=0.001, verbose=False)  report -------- \n",
            "\n",
            "              precision    recall  f1-score   support\n",
            "\n",
            "       black       0.65      0.56      0.60      8831\n",
            "        draw       1.00      0.95      0.98       910\n",
            "       white       0.64      0.73      0.68      9636\n",
            "\n",
            "    accuracy                           0.66     19377\n",
            "   macro avg       0.77      0.75      0.75     19377\n",
            "weighted avg       0.66      0.66      0.66     19377\n",
            "\n",
            "\n",
            "\n"
          ],
          "name": "stdout"
        }
      ]
    },
    {
      "cell_type": "markdown",
      "metadata": {
        "id": "Pzxe9zIHbHKR"
      },
      "source": [
        "Boyut azaltma tekniği olan LDA algoritması "
      ]
    },
    {
      "cell_type": "code",
      "metadata": {
        "id": "iO_iscWIbM9k"
      },
      "source": [
        "from sklearn.discriminant_analysis import LinearDiscriminantAnalysis as LDA\n",
        "lda = LDA(n_components = 2)\n",
        "X_lda = lda.fit_transform(X_sc, y)"
      ],
      "execution_count": 24,
      "outputs": []
    },
    {
      "cell_type": "markdown",
      "metadata": {
        "id": "7OIjgR-EbPsR"
      },
      "source": [
        "LDA ve GridSearchCV uygulanan modellerin sonuçları"
      ]
    },
    {
      "cell_type": "code",
      "metadata": {
        "id": "E16D_AuSbVa5",
        "outputId": "3c3b0c12-8d88-46c3-b48f-8f0252c2f1a3",
        "colab": {
          "base_uri": "https://localhost:8080/"
        }
      },
      "source": [
        "grid_lda_est = [logreg,clf,grid_rfc,grid_knn,gnb]\n",
        "output(grid_lda_est,X_lda,\"bone\")"
      ],
      "execution_count": 25,
      "outputs": [
        {
          "output_type": "stream",
          "text": [
            "--------  LogisticRegression(C=1.0, class_weight=None, dual=False, fit_intercept=True,\n",
            "                   intercept_scaling=1, l1_ratio=None, max_iter=100,\n",
            "                   multi_class='auto', n_jobs=None, penalty='l2',\n",
            "                   random_state=0, solver='lbfgs', tol=0.0001, verbose=0,\n",
            "                   warm_start=False)  report -------- \n",
            "\n",
            "              precision    recall  f1-score   support\n",
            "\n",
            "       black       0.65      0.58      0.61      8831\n",
            "        draw       1.00      0.95      0.97       910\n",
            "       white       0.65      0.71      0.68      9636\n",
            "\n",
            "    accuracy                           0.66     19377\n",
            "   macro avg       0.76      0.75      0.76     19377\n",
            "weighted avg       0.66      0.66      0.66     19377\n",
            "\n",
            "\n",
            "\n",
            "--------  DecisionTreeClassifier(ccp_alpha=0.0, class_weight=None, criterion='gini',\n",
            "                       max_depth=None, max_features=None, max_leaf_nodes=None,\n",
            "                       min_impurity_decrease=0.0, min_impurity_split=None,\n",
            "                       min_samples_leaf=1, min_samples_split=2,\n",
            "                       min_weight_fraction_leaf=0.0, presort='deprecated',\n",
            "                       random_state=0, splitter='best')  report -------- \n",
            "\n",
            "              precision    recall  f1-score   support\n",
            "\n",
            "       black       0.56      0.57      0.56      8831\n",
            "        draw       0.96      0.96      0.96       910\n",
            "       white       0.60      0.60      0.60      9636\n",
            "\n",
            "    accuracy                           0.60     19377\n",
            "   macro avg       0.71      0.71      0.71     19377\n",
            "weighted avg       0.60      0.60      0.60     19377\n",
            "\n",
            "\n",
            "\n",
            "--------  RandomForestClassifier(bootstrap=True, ccp_alpha=0.0, class_weight=None,\n",
            "                       criterion='gini', max_depth=None, max_features='auto',\n",
            "                       max_leaf_nodes=None, max_samples=None,\n",
            "                       min_impurity_decrease=0.0, min_impurity_split=None,\n",
            "                       min_samples_leaf=1, min_samples_split=2,\n",
            "                       min_weight_fraction_leaf=0.0, n_estimators=200,\n",
            "                       n_jobs=None, oob_score=False, random_state=None,\n",
            "                       verbose=0, warm_start=False)  report -------- \n",
            "\n",
            "              precision    recall  f1-score   support\n",
            "\n",
            "       black       0.59      0.59      0.59      8831\n",
            "        draw       0.97      0.95      0.96       910\n",
            "       white       0.63      0.63      0.63      9636\n",
            "\n",
            "    accuracy                           0.63     19377\n",
            "   macro avg       0.73      0.73      0.73     19377\n",
            "weighted avg       0.63      0.63      0.63     19377\n",
            "\n",
            "\n",
            "\n",
            "--------  KNeighborsClassifier(algorithm='auto', leaf_size=30, metric='manhattan',\n",
            "                     metric_params=None, n_jobs=None, n_neighbors=21, p=2,\n",
            "                     weights='distance')  report -------- \n",
            "\n",
            "              precision    recall  f1-score   support\n",
            "\n",
            "       black       0.61      0.60      0.61      8831\n",
            "        draw       0.99      0.95      0.97       910\n",
            "       white       0.64      0.66      0.65      9636\n",
            "\n",
            "    accuracy                           0.64     19377\n",
            "   macro avg       0.75      0.74      0.74     19377\n",
            "weighted avg       0.65      0.64      0.64     19377\n",
            "\n",
            "\n",
            "\n",
            "--------  GaussianNB(priors=None, var_smoothing=1e-09)  report -------- \n",
            "\n",
            "              precision    recall  f1-score   support\n",
            "\n",
            "       black       0.64      0.59      0.61      8831\n",
            "        draw       1.00      0.95      0.97       910\n",
            "       white       0.65      0.71      0.68      9636\n",
            "\n",
            "    accuracy                           0.66     19377\n",
            "   macro avg       0.76      0.75      0.76     19377\n",
            "weighted avg       0.66      0.66      0.66     19377\n",
            "\n",
            "\n",
            "\n"
          ],
          "name": "stdout"
        }
      ]
    }
  ]
}