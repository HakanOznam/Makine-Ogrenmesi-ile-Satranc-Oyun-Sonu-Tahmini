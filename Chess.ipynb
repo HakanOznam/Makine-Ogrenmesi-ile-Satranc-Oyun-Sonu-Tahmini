{
  "nbformat": 4,
  "nbformat_minor": 0,
  "metadata": {
    "colab": {
      "name": "Chess.ipynb",
      "provenance": [],
      "authorship_tag": "ABX9TyMltOq/LyrsYquFWKiqyznd",
      "include_colab_link": true
    },
    "kernelspec": {
      "name": "python3",
      "display_name": "Python 3"
    },
    "language_info": {
      "name": "python"
    }
  },
  "cells": [
    {
      "cell_type": "markdown",
      "metadata": {
        "id": "view-in-github",
        "colab_type": "text"
      },
      "source": [
        "<a href=\"https://colab.research.google.com/github/HakanOznam/Makine-Ogrenmesi-ile-Satranc-Oyun-Sonu-Tahmini/blob/main/Chess.ipynb\" target=\"_parent\"><img src=\"https://colab.research.google.com/assets/colab-badge.svg\" alt=\"Open In Colab\"/></a>"
      ]
    },
    {
      "cell_type": "markdown",
      "metadata": {
        "id": "waLShCvZI8Tn"
      },
      "source": [
        "Kütüphanelerin import edilmesi ve veri kümesinin dahil edilmesi"
      ]
    },
    {
      "cell_type": "code",
      "metadata": {
        "id": "Fhe1qTgNHciO"
      },
      "source": [
        "import pandas as pd\n",
        "import numpy as np\n",
        "import matplotlib.pyplot as plt\n",
        "from sklearn.model_selection import cross_val_score,cross_val_predict\n",
        "from sklearn.metrics import confusion_matrix , ConfusionMatrixDisplay ,classification_report\n",
        "\n",
        "data=pd.read_excel(\"games.xlsx\")"
      ],
      "execution_count": 12,
      "outputs": []
    },
    {
      "cell_type": "markdown",
      "metadata": {
        "id": "YaUl7Ea_JHm-"
      },
      "source": [
        "Analizin doğruluğunu arttırmak için hamle sayısı 10'dan küçük olan maçları veri kümesinden silme işlemi"
      ]
    },
    {
      "cell_type": "code",
      "metadata": {
        "id": "HBJhQXO_JV2c"
      },
      "source": [
        "data=data.drop(data.loc[data['turns']<=10].index)\n",
        "data=data.reset_index(drop=True)"
      ],
      "execution_count": 13,
      "outputs": []
    },
    {
      "cell_type": "markdown",
      "metadata": {
        "id": "vOlyQaPaJX78"
      },
      "source": [
        "Eksik veri kontrolü"
      ]
    },
    {
      "cell_type": "code",
      "metadata": {
        "id": "EKc5rtEXJaCN"
      },
      "source": [
        "data.isnull().sum()"
      ],
      "execution_count": null,
      "outputs": []
    },
    {
      "cell_type": "markdown",
      "metadata": {
        "id": "lRspietSJbeF"
      },
      "source": [
        "Eksik verilerin IterativeImputer metodu ile işlenmesi "
      ]
    },
    {
      "cell_type": "code",
      "metadata": {
        "id": "V4lrxXZkJk3l"
      },
      "source": [
        "from sklearn.experimental import enable_iterative_imputer\n",
        "from sklearn.impute import IterativeImputer\n",
        "testmissing = data.iloc[:9000,2:4]\n",
        "trainmissing = data.iloc[9000:,2:4]\n",
        "imp = IterativeImputer(random_state=0)\n",
        "imp.fit(trainmissing)\n",
        "data.iloc[:9000,2:4] = np.round(imp.transform(testmissing))"
      ],
      "execution_count": 15,
      "outputs": []
    },
    {
      "cell_type": "markdown",
      "metadata": {
        "id": "dXehvcVKJ1VO"
      },
      "source": [
        "Kategorik verilerin sayısal verilere dönüştürme işlemi"
      ]
    },
    {
      "cell_type": "code",
      "metadata": {
        "id": "uHjI2iFwJ7Pl"
      },
      "source": [
        "from sklearn import preprocessing\n",
        "le = preprocessing.LabelEncoder()\n",
        "\n",
        "#rated özniteliği için \n",
        "data.iloc[:,1] = le.fit_transform(data.iloc[:,1])\n",
        "\n",
        "#victory status özniteliği için\n",
        "ohe = preprocessing.OneHotEncoder()\n",
        "vicstatus = data.iloc[:,4].to_numpy()\n",
        "vicstatus = vicstatus.reshape(-1,1)\n",
        "ohe_vicstatus = ohe.fit_transform(vicstatus).toarray()\n",
        "dfvicstatus=pd.DataFrame(data=ohe_vicstatus,columns=[\"draw\",\"mate\",\"outoftime\",\"resign\"])"
      ],
      "execution_count": 16,
      "outputs": []
    },
    {
      "cell_type": "markdown",
      "metadata": {
        "id": "e5SMcpX_KJNW"
      },
      "source": [
        "Oyun açılış(opening_eco) özniteliğinin sayısal verilere dönüştürme işlemi"
      ]
    },
    {
      "cell_type": "code",
      "metadata": {
        "id": "MaWq9gQkKSDp"
      },
      "source": [
        "eco = data['opening_eco']\n",
        "for i in range(len(eco)):  \n",
        "    eco[i]=eco[i].replace(\"A\",\"1\")\n",
        "    eco[i]=eco[i].replace(\"B\",\"2\")\n",
        "    eco[i]=eco[i].replace(\"C\",\"3\")\n",
        "    eco[i]=eco[i].replace(\"D\",\"4\")\n",
        "    eco[i]=eco[i].replace(\"E\",\"5\")\n",
        "\n",
        "eco=pd.to_numeric(eco)"
      ],
      "execution_count": null,
      "outputs": []
    },
    {
      "cell_type": "markdown",
      "metadata": {
        "id": "DqC4EfohKaT8"
      },
      "source": [
        "Verilerin birleştirilmesi, etiket veri kolonunun belirlenmesi"
      ]
    },
    {
      "cell_type": "code",
      "metadata": {
        "id": "pZE_dG2XKsf-"
      },
      "source": [
        "X = pd.concat([data[\"rated\"],data[\"game_time\"],data[\"turns\"],dfvicstatus,data[\"black_rating\"],data[\"white_rating\"]],axis=1)\n",
        "\n",
        "y = data[\"winner\"]\n",
        "y = le.fit_transform(y)\n",
        "classes =[\"black\",\"draw\",\"white\"]"
      ],
      "execution_count": 18,
      "outputs": []
    },
    {
      "cell_type": "markdown",
      "metadata": {
        "id": "IrtXZrAGKuu8"
      },
      "source": [
        "Verilerin standardize edilmesi\n"
      ]
    },
    {
      "cell_type": "code",
      "metadata": {
        "id": "idJ9RLU_KzA1"
      },
      "source": [
        "from sklearn.preprocessing import StandardScaler\n",
        "sc = StandardScaler()\n",
        "X_sc = sc.fit_transform(X)"
      ],
      "execution_count": 19,
      "outputs": []
    },
    {
      "cell_type": "markdown",
      "metadata": {
        "id": "wHbvkmonK9EF"
      },
      "source": [
        "KFold algoritması kullanılarak modellerin sonuçlarını yazdıran fonksiyon tanımlanması"
      ]
    },
    {
      "cell_type": "code",
      "metadata": {
        "id": "wCt1uXvwRc9Y"
      },
      "source": [
        "def output(est,X,color):\n",
        "    for model in est:\n",
        "        accu = cross_val_score(estimator = model, X = X, y=y,cv=5)\n",
        "        y_pred = cross_val_predict(model,X,y,cv=5)\n",
        "        conf_matrix = confusion_matrix(y, y_pred)        \n",
        "        \"\"\"görselleştirme\"\"\"\n",
        "        #disp = ConfusionMatrixDisplay(confusion_matrix=conf_matrix,display_labels=[\"black\",\"draw\",\"white\"])\n",
        "        #disp.plot(cmap=color)\n",
        "        #disp.ax_.set_title(model)\n",
        "        print(\"-------- \",model,\" report -------- \\n\")\n",
        "        print(classification_report(y,y_pred,target_names=classes))\n",
        "        print(\"\\n\")"
      ],
      "execution_count": 45,
      "outputs": []
    },
    {
      "cell_type": "markdown",
      "metadata": {
        "id": "2_W1ODdPSFH1"
      },
      "source": [
        "Modellerin import edilmesi"
      ]
    },
    {
      "cell_type": "code",
      "metadata": {
        "id": "BQDs3cxySShM"
      },
      "source": [
        "from sklearn.model_selection import GridSearchCV\n",
        "\n",
        "from sklearn.linear_model import LogisticRegression\n",
        "logreg = LogisticRegression(random_state=0)\n",
        "\n",
        "from sklearn.tree import DecisionTreeClassifier\n",
        "clf = DecisionTreeClassifier(random_state=0)\n",
        "\n",
        "from sklearn.naive_bayes import GaussianNB\n",
        "gnb = GaussianNB()\n"
      ],
      "execution_count": 21,
      "outputs": []
    },
    {
      "cell_type": "markdown",
      "metadata": {
        "id": "aozrTyj9UPMy"
      },
      "source": [
        "GridSearchCV algoritması ile Random Forest Classifier"
      ]
    },
    {
      "cell_type": "code",
      "metadata": {
        "id": "tax7WhBJUTkK"
      },
      "source": [
        "from sklearn.ensemble import RandomForestClassifier\n",
        "rfc = RandomForestClassifier()\n",
        "\n",
        "parameters = [{'n_estimators': [50,100,150,200], 'criterion':['gini',\"entropy\"]}]\n",
        "grids = GridSearchCV(estimator = rfc, param_grid = parameters, scoring = 'accuracy', cv = 5, n_jobs = -1)\n",
        "grids.fit(X_sc, y)\n",
        "best_accuracy , best_parameter = grids.best_score_ , grids.best_params_"
      ],
      "execution_count": 25,
      "outputs": []
    },
    {
      "cell_type": "code",
      "metadata": {
        "id": "3c21Z3p8U7bj"
      },
      "source": [
        "grid_rfc = RandomForestClassifier(n_estimators=150,criterion=\"entropy\")"
      ],
      "execution_count": 41,
      "outputs": []
    },
    {
      "cell_type": "markdown",
      "metadata": {
        "id": "Xb0gsBooWKmL"
      },
      "source": [
        "GridSearchCV algoritması ile KNN Classifier"
      ]
    },
    {
      "cell_type": "code",
      "metadata": {
        "colab": {
          "base_uri": "https://localhost:8080/"
        },
        "id": "tqcrpWEYWQ5I",
        "outputId": "f6c526f2-2422-4b7c-a6f8-65c653f21370"
      },
      "source": [
        "from sklearn.neighbors import KNeighborsClassifier\n",
        "knn = KNeighborsClassifier()\n",
        "\n",
        "parameters = [{'n_neighbors': [3,5,7,9,11,13,15,17,19,21], 'weights':['uniform',\"distance\"],\"metric\" : [\"euclidean\",\"manhattan\",\"minkowski\"]}]\n",
        "grids = GridSearchCV(estimator = knn, param_grid = parameters, scoring = 'accuracy', cv = 5, n_jobs = -1)\n",
        "grids.fit(X_sc, y)\n",
        "best_accuracy , best_parameter = grids.best_score_ , grids.best_params_\n"
      ],
      "execution_count": 33,
      "outputs": [
        {
          "output_type": "execute_result",
          "data": {
            "text/plain": [
              "{'metric': 'manhattan', 'n_neighbors': 21, 'weights': 'distance'}"
            ]
          },
          "metadata": {
            "tags": []
          },
          "execution_count": 33
        }
      ]
    },
    {
      "cell_type": "code",
      "metadata": {
        "id": "8KSVyvvWWue6"
      },
      "source": [
        "grid_knn = KNeighborsClassifier(n_neighbors=21,weights=\"distance\",metric=\"manhattan\")"
      ],
      "execution_count": 42,
      "outputs": []
    },
    {
      "cell_type": "markdown",
      "metadata": {
        "id": "djxDVSfpWyMC"
      },
      "source": [
        "GridSearchCV algoritması ile Support Vector Classifier"
      ]
    },
    {
      "cell_type": "code",
      "metadata": {
        "id": "vjuBaI9nW1NZ"
      },
      "source": [
        "from sklearn.svm import SVC\n",
        "svm = SVC()\n",
        "\n",
        "parameters = [{'C': [0.25, 0.5, 0.75, 1], 'kernel':['linear']}, {'C': [0.25, 0.5, 0.75, 1], 'kernel':['rbf'], 'gamma': [0.1, 0.2, 0.3, 0.4, 0.5]}]\n",
        "grids = GridSearchCV(estimator = svm, param_grid = parameters, scoring = 'accuracy', cv = 5, n_jobs = -1)\n",
        "grids.fit(X_sc, y)\n",
        "best_accuracy , best_parameter = grids.best_score_ , grids.best_params_\n"
      ],
      "execution_count": null,
      "outputs": []
    },
    {
      "cell_type": "code",
      "metadata": {
        "id": "buPDyQXhW6FZ"
      },
      "source": [
        "grid_svm = SVC(C=0.75,kernel=\"linear\")"
      ],
      "execution_count": 43,
      "outputs": []
    },
    {
      "cell_type": "markdown",
      "metadata": {
        "id": "VJMlP9dDa7wE"
      },
      "source": [
        "Parametre kullanılmayan modellerin sonuçları"
      ]
    },
    {
      "cell_type": "code",
      "metadata": {
        "id": "yKl4sO7_bAZO"
      },
      "source": [
        "est = [logreg,clf,rfc,knn,gnb]\n",
        "output(est,X_sc,\"pink\")"
      ],
      "execution_count": null,
      "outputs": []
    },
    {
      "cell_type": "markdown",
      "metadata": {
        "id": "H1NyB0D6bDIp"
      },
      "source": [
        "GridSearchCV uygulanan üç modelin sonuçları"
      ]
    },
    {
      "cell_type": "code",
      "metadata": {
        "id": "0rF-zwgFbFiy"
      },
      "source": [
        "grid_est = [grid_rfc,grid_knn,grid_svm]\n",
        "output(grid_est,X_sc,\"hot\")\n"
      ],
      "execution_count": null,
      "outputs": []
    },
    {
      "cell_type": "markdown",
      "metadata": {
        "id": "Pzxe9zIHbHKR"
      },
      "source": [
        "Boyut azaltma tekniği olan LDA algoritması "
      ]
    },
    {
      "cell_type": "code",
      "metadata": {
        "id": "iO_iscWIbM9k"
      },
      "source": [
        "from sklearn.discriminant_analysis import LinearDiscriminantAnalysis as LDA\n",
        "lda = LDA(n_components = 2)\n",
        "X_lda = lda.fit_transform(X_sc, y)"
      ],
      "execution_count": null,
      "outputs": []
    },
    {
      "cell_type": "markdown",
      "metadata": {
        "id": "7OIjgR-EbPsR"
      },
      "source": [
        "LDA ve GridSearchCV uygulanan modellerin sonuçları"
      ]
    },
    {
      "cell_type": "code",
      "metadata": {
        "id": "E16D_AuSbVa5"
      },
      "source": [
        "grid_lda_est = [logreg,clf,grid_rfc,grid_knn,gnb]\n",
        "output(grid_lda_est,X_lda,\"bone\")"
      ],
      "execution_count": null,
      "outputs": []
    }
  ]
}